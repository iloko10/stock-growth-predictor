{
  "nbformat": 4,
  "nbformat_minor": 0,
  "metadata": {
    "colab": {
      "provenance": [],
      "authorship_tag": "ABX9TyNigcy4xlt1d8D9scu2Fo2J",
      "include_colab_link": true
    },
    "kernelspec": {
      "name": "python3",
      "display_name": "Python 3"
    },
    "language_info": {
      "name": "python"
    }
  },
  "cells": [
    {
      "cell_type": "markdown",
      "metadata": {
        "id": "view-in-github",
        "colab_type": "text"
      },
      "source": [
        "<a href=\"https://colab.research.google.com/github/iloko10/stock-growth-predictor/blob/main/Untitled1.ipynb\" target=\"_parent\"><img src=\"https://colab.research.google.com/assets/colab-badge.svg\" alt=\"Open In Colab\"/></a>"
      ]
    },
    {
      "cell_type": "code",
      "source": [
        "# Install necessary packages if you haven't already\n",
        "# !pip install yfinance scikit-learn dash pandas --quiet\n",
        "\n",
        "import yfinance as yf\n",
        "import pandas as pd\n",
        "import numpy as np\n",
        "from sklearn.ensemble import RandomForestClassifier\n",
        "from sklearn.model_selection import train_test_split\n",
        "from sklearn.metrics import accuracy_score\n",
        "\n",
        "import dash\n",
        "from dash import dcc, html, Input, Output\n",
        "import plotly.express as px\n",
        "\n",
        "\n",
        "# List of stock tickers to analyze\n",
        "tickers = ['AAPL', 'MSFT', 'TSLA', 'NVDA', 'AMZN', 'META', 'GOOGL', 'NFLX',\n",
        "           'AMD', 'SHOP', 'UBER', 'ABNB', 'COIN', 'ROKU', 'PLTR', 'SNOW',\n",
        "           'DOCU', 'ZM', 'FSLY', 'CRWD', 'DDOG', 'NIO', 'LI', 'XPEV',\n",
        "           'BIDU', 'RIVN', 'BABA', 'INTC', 'PYPL']\n",
        "\n",
        "start_date = \"2020-01-01\"\n",
        "# No end_date limit, so we fetch up to today\n",
        "end_date = pd.Timestamp.today().strftime('%Y-%m-%d')\n",
        "\n",
        "print(\"Downloading data...\")\n",
        "# Download adjusted close prices for all tickers\n",
        "data = yf.download(tickers, start=start_date, end=end_date)\n",
        "close_data = data['Close'].dropna()\n",
        "\n",
        "features = []\n",
        "\n",
        "# Calculate features for each ticker\n",
        "for ticker in close_data.columns:\n",
        "    prices = close_data[ticker]\n",
        "\n",
        "    # Skip if not enough data\n",
        "    if len(prices) < 22:\n",
        "        continue\n",
        "\n",
        "    avg_price = prices.mean()\n",
        "    max_price = prices.max()\n",
        "    min_price = prices.min()\n",
        "    price_change = (prices.iloc[-1] - prices.iloc[0]) / prices.iloc[0] * 100\n",
        "    last_month_avg = prices.iloc[-21:].mean()\n",
        "    volatility = (max_price - min_price) / avg_price\n",
        "\n",
        "    features.append({\n",
        "        'Ticker': ticker,\n",
        "        'AvgPrice': avg_price,\n",
        "        'Volatility': volatility,\n",
        "        'LastMonthAvg': last_month_avg,\n",
        "        'PriceChange': price_change,\n",
        "    })\n",
        "\n",
        "df = pd.DataFrame(features)\n",
        "\n",
        "# Label: 1 if price change > 100%, else 0\n",
        "df['Label'] = (df['PriceChange'] > 100).astype(int)\n",
        "\n",
        "X = df[['AvgPrice', 'Volatility', 'LastMonthAvg']]\n",
        "y = df['Label']\n",
        "\n",
        "X_train, X_test, y_train, y_test = train_test_split(X, y, test_size=0.2, random_state=42)\n",
        "\n",
        "\n",
        "model = RandomForestClassifier(n_estimators=100, random_state=42)\n",
        "model.fit(X_train, y_train)\n",
        "\n",
        "y_pred = model.predict(X_test)\n",
        "print(\"Model Accuracy:\", accuracy_score(y_test, y_pred))\n",
        "\n",
        "df['Predicted'] = model.predict(X)\n",
        "\n",
        "\n",
        "\n",
        "app = dash.Dash(__name__)\n",
        "\n",
        "app.layout = html.Div([\n",
        "    html.H1(\"Stock Growth Prediction Dashboard\"),\n",
        "\n",
        "    html.H3(\"Stock Predictions Table\"),\n",
        "    dcc.Graph(\n",
        "        id='table',\n",
        "        figure=px.bar(\n",
        "            df,\n",
        "            x='Ticker',\n",
        "            y='PriceChange',\n",
        "            color='Predicted',\n",
        "            labels={'PriceChange': 'Price Change (%)'},\n",
        "            title='Price Change and Prediction (Green=High Growth)'\n",
        "        )\n",
        "    ),\n",
        "\n",
        "    html.H3(\"Predict New Stock Growth\"),\n",
        "    dcc.Input(id='input-ticker', type='text', placeholder='Enter stock ticker (e.g. AAPL)'),\n",
        "    html.Button('Predict', id='predict-button', n_clicks=0),\n",
        "    html.Div(id='prediction-output', style={'marginTop': 20, 'fontSize': 20})\n",
        "])\n",
        "\n",
        "-\n",
        "\n",
        "@app.callback(\n",
        "    Output('prediction-output', 'children'),\n",
        "    Input('predict-button', 'n_clicks'),\n",
        "    Input('input-ticker', 'value')\n",
        ")\n",
        "def predict_new_stock(n_clicks, ticker):\n",
        "    if n_clicks > 0 and ticker:\n",
        "        try:\n",
        "            # Fetch recent data without end date limit\n",
        "            stock = yf.download(ticker, start=\"2023-01-01\")['Close'].dropna()\n",
        "\n",
        "            if stock.empty or len(stock) < 22:\n",
        "                return f\"⚠️ Not enough data to analyze {ticker.upper()}.\"\n",
        "\n",
        "            avg_price = stock.mean()\n",
        "            max_price = stock.max()\n",
        "            min_price = stock.min()\n",
        "            last_month_avg = stock.iloc[-21:].mean()\n",
        "            volatility = (max_price - min_price) / avg_price\n",
        "\n",
        "            new_data = pd.DataFrame([{\n",
        "                'AvgPrice': avg_price,\n",
        "                'Volatility': volatility,\n",
        "                'LastMonthAvg': last_month_avg\n",
        "            }])\n",
        "\n",
        "            prediction = model.predict(new_data)[0]\n",
        "            return f\"📈 {ticker.upper()} is predicted to be a {'HIGH-GROWTH ✅' if prediction == 1 else 'LOW-GROWTH ❌'} company.\"\n",
        "\n",
        "        except Exception as e:\n",
        "            return f\"❌ Error fetching data for {ticker.upper()}: {str(e)}\"\n",
        "    return \"\"\n",
        "\n",
        "if __name__ == '__main__':\n",
        "    app.run(debug=True)\n"
      ],
      "metadata": {
        "colab": {
          "base_uri": "https://localhost:8080/",
          "height": 793
        },
        "id": "eIyU9MLciw9v",
        "outputId": "fe1d62d2-af73-419e-da01-c9c0c03e90cf"
      },
      "execution_count": 28,
      "outputs": [
        {
          "output_type": "stream",
          "name": "stdout",
          "text": [
            "Downloading data...\n"
          ]
        },
        {
          "output_type": "stream",
          "name": "stderr",
          "text": [
            "/tmp/ipython-input-28-3409587810.py:31: FutureWarning:\n",
            "\n",
            "YF.download() has changed argument auto_adjust default to True\n",
            "\n",
            "[*********************100%***********************]  29 of 29 completed\n"
          ]
        },
        {
          "output_type": "stream",
          "name": "stdout",
          "text": [
            "Model Accuracy: 0.8333333333333334\n"
          ]
        },
        {
          "output_type": "display_data",
          "data": {
            "text/plain": [
              "<IPython.core.display.Javascript object>"
            ],
            "application/javascript": [
              "(async (port, path, width, height, cache, element) => {\n",
              "    if (!google.colab.kernel.accessAllowed && !cache) {\n",
              "      return;\n",
              "    }\n",
              "    element.appendChild(document.createTextNode(''));\n",
              "    const url = await google.colab.kernel.proxyPort(port, {cache});\n",
              "    const iframe = document.createElement('iframe');\n",
              "    iframe.src = new URL(path, url).toString();\n",
              "    iframe.height = height;\n",
              "    iframe.width = width;\n",
              "    iframe.style.border = 0;\n",
              "    iframe.allow = [\n",
              "        'accelerometer',\n",
              "        'autoplay',\n",
              "        'camera',\n",
              "        'clipboard-read',\n",
              "        'clipboard-write',\n",
              "        'gyroscope',\n",
              "        'magnetometer',\n",
              "        'microphone',\n",
              "        'serial',\n",
              "        'usb',\n",
              "        'xr-spatial-tracking',\n",
              "    ].join('; ');\n",
              "    element.appendChild(iframe);\n",
              "  })(8050, \"/\", \"100%\", 650, false, window.element)"
            ]
          },
          "metadata": {}
        }
      ]
    }
  ]
}